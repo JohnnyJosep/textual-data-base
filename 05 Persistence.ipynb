{
 "cells": [
  {
   "cell_type": "code",
   "execution_count": 1,
   "metadata": {},
   "outputs": [],
   "source": [
    "from tqdm.notebook import trange\n",
    "from tqdm.notebook import tqdm\n",
    "import requests\n",
    "from subprocess import call\n",
    "from os import listdir, mkdir\n",
    "from os.path import  isfile, join\n",
    "import gzip\n",
    "import json"
   ]
  },
  {
   "cell_type": "code",
   "execution_count": 2,
   "metadata": {},
   "outputs": [],
   "source": [
    "from Diaries import Diary\n",
    "from TextUtils import TextData\n",
    "\n",
    "from Persistence import insert"
   ]
  },
  {
   "cell_type": "markdown",
   "metadata": {},
   "source": [
    "# Download data"
   ]
  },
  {
   "cell_type": "code",
   "execution_count": 3,
   "metadata": {},
   "outputs": [],
   "source": [
    "def download_pdf(idLegislature, idPleno):\n",
    "    url = f'http://www.congreso.es/public_oficiales/L{idLegislature}/CONG/DS/PL/DSCD-{idLegislature}-PL-{idPleno}.PDF'\n",
    "    response = requests.get(url)\n",
    "    if response.status_code == 200:\n",
    "        with open(f'data/diaries/DSCD-{idLegislature:02d}-PL-{idPleno:03d}.PDF', 'wb') as file:\n",
    "            file.write(response.content)\n",
    "        return url\n",
    "    return None"
   ]
  },
  {
   "cell_type": "code",
   "execution_count": 5,
   "metadata": {},
   "outputs": [
    {
     "data": {
      "application/vnd.jupyter.widget-view+json": {
       "model_id": "02aae4cb120f4434b5012d9200038371",
       "version_major": 2,
       "version_minor": 0
      },
      "text/plain": [
       "HBox(children=(HTML(value=''), FloatProgress(value=0.0, max=5.0), HTML(value='')))"
      ]
     },
     "metadata": {},
     "output_type": "display_data"
    },
    {
     "data": {
      "application/vnd.jupyter.widget-view+json": {
       "model_id": "68763ceb0528485991fa184d4651bf17",
       "version_major": 2,
       "version_minor": 0
      },
      "text/plain": [
       "HBox(children=(HTML(value=''), FloatProgress(value=0.0, max=499.0), HTML(value='')))"
      ]
     },
     "metadata": {},
     "output_type": "display_data"
    },
    {
     "name": "stdout",
     "output_type": "stream",
     "text": [
      "\n"
     ]
    },
    {
     "data": {
      "application/vnd.jupyter.widget-view+json": {
       "model_id": "f6e5c4e88d2a42ad9c3c156bfc32dfa5",
       "version_major": 2,
       "version_minor": 0
      },
      "text/plain": [
       "HBox(children=(HTML(value=''), FloatProgress(value=0.0, max=499.0), HTML(value='')))"
      ]
     },
     "metadata": {},
     "output_type": "display_data"
    },
    {
     "name": "stdout",
     "output_type": "stream",
     "text": [
      "\n"
     ]
    },
    {
     "data": {
      "application/vnd.jupyter.widget-view+json": {
       "model_id": "0f31dd3f675c4faa87d7d4d55a4ad613",
       "version_major": 2,
       "version_minor": 0
      },
      "text/plain": [
       "HBox(children=(HTML(value=''), FloatProgress(value=0.0, max=499.0), HTML(value='')))"
      ]
     },
     "metadata": {},
     "output_type": "display_data"
    },
    {
     "name": "stdout",
     "output_type": "stream",
     "text": [
      "\n"
     ]
    },
    {
     "data": {
      "application/vnd.jupyter.widget-view+json": {
       "model_id": "42c65575088b4982bee614de9ce7f40c",
       "version_major": 2,
       "version_minor": 0
      },
      "text/plain": [
       "HBox(children=(HTML(value=''), FloatProgress(value=0.0, max=499.0), HTML(value='')))"
      ]
     },
     "metadata": {},
     "output_type": "display_data"
    },
    {
     "name": "stdout",
     "output_type": "stream",
     "text": [
      "\n"
     ]
    },
    {
     "data": {
      "application/vnd.jupyter.widget-view+json": {
       "model_id": "26d5b03b97064dd0a41b7faa7c7b2fd9",
       "version_major": 2,
       "version_minor": 0
      },
      "text/plain": [
       "HBox(children=(HTML(value=''), FloatProgress(value=0.0, max=499.0), HTML(value='')))"
      ]
     },
     "metadata": {},
     "output_type": "display_data"
    },
    {
     "name": "stdout",
     "output_type": "stream",
     "text": [
      "\n",
      "\n"
     ]
    }
   ],
   "source": [
    "consecutive_errors = 0\n",
    "max_consecutive_errors = 50\n",
    "for legislature in tqdm(range(10, 15)):\n",
    "    consecutive_errors = 0\n",
    "    for pleno in tqdm(range(1, 500)):\n",
    "        path = download_pdf(legislature, pleno)\n",
    "        if path:\n",
    "            consecutive_errors = 0\n",
    "        else: \n",
    "            consecutive_errors = consecutive_errors + 1\n",
    "            if consecutive_errors > max_consecutive_errors:\n",
    "                break"
   ]
  },
  {
   "cell_type": "markdown",
   "metadata": {},
   "source": [
    "# Convert PDF to TXT"
   ]
  },
  {
   "cell_type": "code",
   "execution_count": 11,
   "metadata": {},
   "outputs": [
    {
     "data": {
      "text/plain": "HBox(children=(HTML(value=''), FloatProgress(value=0.0, max=273.0), HTML(value='')))",
      "application/vnd.jupyter.widget-view+json": {
       "version_major": 2,
       "version_minor": 0,
       "model_id": "1de6d01d34c945b0bbec6e8c3249f5c7"
      }
     },
     "metadata": {},
     "output_type": "display_data"
    },
    {
     "name": "stdout",
     "output_type": "stream",
     "text": [
      "\n"
     ]
    }
   ],
   "source": [
    "pdfsPath = 'data/diaries/'\n",
    "txtPath = 'data/diaries-txts/'\n",
    "\n",
    "files = [f for f in listdir(pdfsPath) if isfile(join(pdfsPath, f))]\n",
    "\n",
    "process = 'ReadPdf/ReadPdf/bin/Release/net472/ReadPdf.exe'\n",
    "for i in trange(len(files)):\n",
    "    file = files[i]\n",
    "    src = join(pdfsPath, file)\n",
    "    dst = join(txtPath, file[:-4] + '.txt')\n",
    "    call([process, src, dst])"
   ]
  },
  {
   "cell_type": "markdown",
   "metadata": {},
   "source": [
    "# Transform txt to TextData"
   ]
  },
  {
   "cell_type": "code",
   "execution_count": 3,
   "metadata": {},
   "outputs": [
    {
     "data": {
      "text/plain": "HBox(children=(HTML(value=''), FloatProgress(value=0.0, max=273.0), HTML(value='')))",
      "application/vnd.jupyter.widget-view+json": {
       "version_major": 2,
       "version_minor": 0,
       "model_id": "554621119d864a0eb3902031139322a4"
      }
     },
     "metadata": {},
     "output_type": "display_data"
    },
    {
     "name": "stdout",
     "output_type": "stream",
     "text": [
      "\n"
     ]
    }
   ],
   "source": [
    "pathTxts = [join('./data/diaries-txts/', f) for f in listdir('./data/diaries-txts') if isfile(join('./data/diaries-txts/', f))]\n",
    "data = []\n",
    "for i in trange(len(pathTxts)):\n",
    "    path = pathTxts[i]\n",
    "    diary = Diary(path)\n",
    "    \n",
    "    debates = diary.get_debates()\n",
    "    for d in range(len(debates)):\n",
    "        debate = debates[d]\n",
    "        \n",
    "        speaches = debate.get_speaches()\n",
    "        for s in range(len(speaches)):\n",
    "            speach = speaches[s]\n",
    "            debateTitle = debate.title.strip()\n",
    "            if not debateTitle:\n",
    "                debateTitle = diary.firstDayOrder\n",
    "            td = TextData(speach.speach, {\n",
    "                \"celebrated\": diary.celebrated,\n",
    "                \"legislature\": diary.legislature,\n",
    "                \n",
    "                \"debateOrder\": d,\n",
    "                \"debate\": debateTitle,\n",
    "                \n",
    "                \"speachOrder\": s,\n",
    "                \"speackerTreatment\": speach.speackerTreatment,\n",
    "                \"speacker\": speach.speacker,\n",
    "                \"path\": path\n",
    "            })\n",
    "            \n",
    "            if not diary.celebrated or not diary.legislature or not debateTitle or not speach.speackerTreatment or not speach.speacker:\n",
    "                print(td)\n",
    "            \n",
    "            data.append(td)\n",
    "        \n",
    "    "
   ]
  },
  {
   "cell_type": "markdown",
   "metadata": {},
   "source": [
    "# Insert into DB\n",
    "\n",
    "```\n",
    "docker build -t postgresql ./docker/postgresql\n",
    "docker run -it --rm --name postgresql -p 5432:5432 -v D:/Sources/TFG/data/postgresql:/var/lib/postgresql/data postgresql\n",
    "```"
   ]
  },
  {
   "cell_type": "code",
   "execution_count": 4,
   "metadata": {},
   "outputs": [
    {
     "data": {
      "text/plain": "HBox(children=(HTML(value=''), FloatProgress(value=0.0, max=58684.0), HTML(value='')))",
      "application/vnd.jupyter.widget-view+json": {
       "version_major": 2,
       "version_minor": 0,
       "model_id": "9527ee9e8401499b9d7539b90d7193cd"
      }
     },
     "metadata": {},
     "output_type": "display_data"
    },
    {
     "name": "stdout",
     "output_type": "stream",
     "text": [
      "\n"
     ]
    }
   ],
   "source": [
    "for i in trange(len(data)):\n",
    "    insert(data[i])"
   ]
  },
  {
   "cell_type": "code",
   "execution_count": null,
   "metadata": {},
   "outputs": [],
   "source": []
  }
 ],
 "metadata": {
  "kernelspec": {
   "display_name": "Python 3",
   "language": "python",
   "name": "python3"
  },
  "language_info": {
   "codemirror_mode": {
    "name": "ipython",
    "version": 3
   },
   "file_extension": ".py",
   "mimetype": "text/x-python",
   "name": "python",
   "nbconvert_exporter": "python",
   "pygments_lexer": "ipython3",
   "version": "3.9.0"
  }
 },
 "nbformat": 4,
 "nbformat_minor": 4
}