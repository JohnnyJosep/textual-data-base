{
 "cells": [
  {
   "cell_type": "code",
   "execution_count": 24,
   "metadata": {},
   "outputs": [],
   "source": [
    "import pickle    \n",
    "import numpy\n",
    "import nltk\n",
    "from nltk.tokenize import word_tokenize\n",
    "from nltk.corpus import stopwords\n",
    "from nltk.stem import SnowballStemmer\n",
    "\n",
    "spanish_stopwords = stopwords.words('spanish')\n",
    "spanish_sentence_tokenizer = nltk.data.load('tokenizers/punkt/spanish.pickle')\n",
    "spanish_stemmer = SnowballStemmer('spanish')"
   ]
  },
  {
   "cell_type": "code",
   "execution_count": 10,
   "metadata": {},
   "outputs": [
    {
     "name": "stdout",
     "output_type": "stream",
     "text": [
      "text:\t\tSeñorías, antes de nada quiero recordar a quienes ocupan las tribunas de invitados que no pueden hacer manifestaciones de ningún tipo mientras dura la sesión. Se abre la sesión con el único punto en el orden del día, como ustedes saben, relativo al debate sobre la investidura del candidato a la Presidencia del Gobierno. Para ello, por la secretaria primera de la Cámara se va a proceder a la lectura de la propuesta de candidato a la Presidencia del Gobierno.\n",
      "meta:\n",
      "\tspeacker:\tPRESIDENTE\n"
     ]
    }
   ],
   "source": [
    "with open('./data/data.json', 'rb') as file:\n",
    "    data = pickle.load(file)\n",
    "    \n",
    "print(data[0])\n",
    "text = data[0].text"
   ]
  },
  {
   "cell_type": "markdown",
   "metadata": {},
   "source": [
    "# Tokenizer"
   ]
  },
  {
   "cell_type": "markdown",
   "metadata": {},
   "source": [
    "## Sentence"
   ]
  },
  {
   "cell_type": "code",
   "execution_count": 25,
   "metadata": {},
   "outputs": [
    {
     "data": {
      "text/plain": [
       "['Señorías, antes de nada quiero recordar a quienes ocupan las tribunas de invitados que no pueden hacer manifestaciones de ningún tipo mientras dura la sesión.',\n",
       " 'Se abre la sesión con el único punto en el orden del día, como ustedes saben, relativo al debate sobre la investidura del candidato a la Presidencia del Gobierno.',\n",
       " 'Para ello, por la secretaria primera de la Cámara se va a proceder a la lectura de la propuesta de candidato a la Presidencia del Gobierno.']"
      ]
     },
     "execution_count": 25,
     "metadata": {},
     "output_type": "execute_result"
    }
   ],
   "source": [
    "sentences = spanish_sentence_tokenizer.tokenize(text)\n",
    "sentences\n"
   ]
  },
  {
   "cell_type": "markdown",
   "metadata": {},
   "source": [
    "## Words"
   ]
  },
  {
   "cell_type": "code",
   "execution_count": 26,
   "metadata": {},
   "outputs": [
    {
     "data": {
      "text/plain": [
       "['Señorías',\n",
       " ',',\n",
       " 'antes',\n",
       " 'de',\n",
       " 'nada',\n",
       " 'quiero',\n",
       " 'recordar',\n",
       " 'a',\n",
       " 'quienes',\n",
       " 'ocupan',\n",
       " 'las',\n",
       " 'tribunas',\n",
       " 'de',\n",
       " 'invitados',\n",
       " 'que',\n",
       " 'no',\n",
       " 'pueden',\n",
       " 'hacer',\n",
       " 'manifestaciones',\n",
       " 'de',\n",
       " 'ningún',\n",
       " 'tipo',\n",
       " 'mientras',\n",
       " 'dura',\n",
       " 'la',\n",
       " 'sesión',\n",
       " '.']"
      ]
     },
     "execution_count": 26,
     "metadata": {},
     "output_type": "execute_result"
    }
   ],
   "source": [
    "words = word_tokenize(sentences[0])\n",
    "words"
   ]
  },
  {
   "cell_type": "markdown",
   "metadata": {},
   "source": [
    "# Stopwords"
   ]
  },
  {
   "cell_type": "code",
   "execution_count": 27,
   "metadata": {},
   "outputs": [
    {
     "data": {
      "text/plain": [
       "['Señorías',\n",
       " ',',\n",
       " 'quiero',\n",
       " 'recordar',\n",
       " 'ocupan',\n",
       " 'tribunas',\n",
       " 'invitados',\n",
       " 'pueden',\n",
       " 'hacer',\n",
       " 'manifestaciones',\n",
       " 'ningún',\n",
       " 'tipo',\n",
       " 'mientras',\n",
       " 'dura',\n",
       " 'sesión',\n",
       " '.']"
      ]
     },
     "execution_count": 27,
     "metadata": {},
     "output_type": "execute_result"
    }
   ],
   "source": [
    "tokens_without_stopwords = [t for t in words if t not in spanish_stopwords]\n",
    "tokens_without_stopwords"
   ]
  },
  {
   "cell_type": "markdown",
   "metadata": {},
   "source": [
    "# Stemming"
   ]
  },
  {
   "cell_type": "code",
   "execution_count": 30,
   "metadata": {},
   "outputs": [
    {
     "data": {
      "text/plain": [
       "['señor',\n",
       " ',',\n",
       " 'quier',\n",
       " 'record',\n",
       " 'ocup',\n",
       " 'tribun',\n",
       " 'invit',\n",
       " 'pued',\n",
       " 'hac',\n",
       " 'manifest',\n",
       " 'ningun',\n",
       " 'tip',\n",
       " 'mientr',\n",
       " 'dur',\n",
       " 'sesion',\n",
       " '.']"
      ]
     },
     "execution_count": 30,
     "metadata": {},
     "output_type": "execute_result"
    }
   ],
   "source": [
    "tokens_stemming = [spanish_stemmer.stem(t) for t in tokens_without_stopwords]\n",
    "tokens_stemming"
   ]
  }
 ],
 "metadata": {
  "kernelspec": {
   "display_name": "Python 3",
   "language": "python",
   "name": "python3"
  },
  "language_info": {
   "codemirror_mode": {
    "name": "ipython",
    "version": 3
   },
   "file_extension": ".py",
   "mimetype": "text/x-python",
   "name": "python",
   "nbconvert_exporter": "python",
   "pygments_lexer": "ipython3",
   "version": "3.9.0"
  }
 },
 "nbformat": 4,
 "nbformat_minor": 4
}
