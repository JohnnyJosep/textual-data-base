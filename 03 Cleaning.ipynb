{
 "cells": [
  {
   "cell_type": "code",
   "execution_count": 4,
   "metadata": {},
   "outputs": [],
   "source": [
    "import pickle    "
   ]
  },
  {
   "cell_type": "code",
   "execution_count": 6,
   "metadata": {},
   "outputs": [],
   "source": [
    "with open('./data/data.json', 'rb') as file:\n",
    "    data = pickle.load(file)"
   ]
  },
  {
   "cell_type": "code",
   "execution_count": 8,
   "metadata": {},
   "outputs": [
    {
     "name": "stdout",
     "output_type": "stream",
     "text": [
      "text:\t\tSeñorías, antes de nada quiero recordar a quienes ocupan las tribunas de invitados que no pueden hacer manifestaciones de ningún tipo mientras dura la sesión. Se abre la sesión con el único punto en el orden del día, como ustedes saben, relativo al debate sobre la investidura del candidato a la Presidencia del Gobierno. Para ello, por la secretaria primera de la Cámara se va a proceder a la lectura de la propuesta de candidato a la Presidencia del Gobierno.\n",
      "meta:\n",
      "\tspeacker:\tPRESIDENTE\n"
     ]
    }
   ],
   "source": [
    "print(data[0])"
   ]
  },
  {
   "cell_type": "code",
   "execution_count": 9,
   "metadata": {},
   "outputs": [],
   "source": [
    "import numpy\n",
    "import nltk"
   ]
  },
  {
   "cell_type": "code",
   "execution_count": 14,
   "metadata": {},
   "outputs": [],
   "source": [
    "# nltk.download()\n",
    "\n",
    "tokenizer = nltk.data.load('tokenizers/punkt/spanish.pickle')"
   ]
  },
  {
   "cell_type": "code",
   "execution_count": 20,
   "metadata": {},
   "outputs": [
    {
     "data": {
      "text/plain": [
       "['Señorías',\n",
       " ',',\n",
       " 'antes',\n",
       " 'de',\n",
       " 'nada',\n",
       " 'quiero',\n",
       " 'recordar',\n",
       " 'a',\n",
       " 'quienes',\n",
       " 'ocupan',\n",
       " 'las',\n",
       " 'tribunas',\n",
       " 'de',\n",
       " 'invitados',\n",
       " 'que',\n",
       " 'no',\n",
       " 'pueden',\n",
       " 'hacer',\n",
       " 'manifestaciones',\n",
       " 'de',\n",
       " 'ningún',\n",
       " 'tipo',\n",
       " 'mientras',\n",
       " 'dura',\n",
       " 'la',\n",
       " 'sesión',\n",
       " '.',\n",
       " 'Se',\n",
       " 'abre',\n",
       " 'la',\n",
       " 'sesión',\n",
       " 'con',\n",
       " 'el',\n",
       " 'único',\n",
       " 'punto',\n",
       " 'en',\n",
       " 'el',\n",
       " 'orden',\n",
       " 'del',\n",
       " 'día',\n",
       " ',',\n",
       " 'como',\n",
       " 'ustedes',\n",
       " 'saben',\n",
       " ',',\n",
       " 'relativo',\n",
       " 'al',\n",
       " 'debate',\n",
       " 'sobre',\n",
       " 'la',\n",
       " 'investidura',\n",
       " 'del',\n",
       " 'candidato',\n",
       " 'a',\n",
       " 'la',\n",
       " 'Presidencia',\n",
       " 'del',\n",
       " 'Gobierno',\n",
       " '.',\n",
       " 'Para',\n",
       " 'ello',\n",
       " ',',\n",
       " 'por',\n",
       " 'la',\n",
       " 'secretaria',\n",
       " 'primera',\n",
       " 'de',\n",
       " 'la',\n",
       " 'Cámara',\n",
       " 'se',\n",
       " 'va',\n",
       " 'a',\n",
       " 'proceder',\n",
       " 'a',\n",
       " 'la',\n",
       " 'lectura',\n",
       " 'de',\n",
       " 'la',\n",
       " 'propuesta',\n",
       " 'de',\n",
       " 'candidato',\n",
       " 'a',\n",
       " 'la',\n",
       " 'Presidencia',\n",
       " 'del',\n",
       " 'Gobierno',\n",
       " '.']"
      ]
     },
     "execution_count": 20,
     "metadata": {},
     "output_type": "execute_result"
    }
   ],
   "source": [
    "from nltk.tokenize import word_tokenize\n",
    "tokens = word_tokenize(data[0].text)\n",
    "tokens"
   ]
  },
  {
   "cell_type": "code",
   "execution_count": 21,
   "metadata": {},
   "outputs": [
    {
     "data": {
      "text/plain": [
       "['Señorías',\n",
       " ',',\n",
       " 'quiero',\n",
       " 'recordar',\n",
       " 'ocupan',\n",
       " 'tribunas',\n",
       " 'invitados',\n",
       " 'pueden',\n",
       " 'hacer',\n",
       " 'manifestaciones',\n",
       " 'ningún',\n",
       " 'tipo',\n",
       " 'mientras',\n",
       " 'dura',\n",
       " 'sesión',\n",
       " '.',\n",
       " 'Se',\n",
       " 'abre',\n",
       " 'sesión',\n",
       " 'único',\n",
       " 'punto',\n",
       " 'orden',\n",
       " 'día',\n",
       " ',',\n",
       " 'ustedes',\n",
       " 'saben',\n",
       " ',',\n",
       " 'relativo',\n",
       " 'debate',\n",
       " 'investidura',\n",
       " 'candidato',\n",
       " 'Presidencia',\n",
       " 'Gobierno',\n",
       " '.',\n",
       " 'Para',\n",
       " 'ello',\n",
       " ',',\n",
       " 'secretaria',\n",
       " 'primera',\n",
       " 'Cámara',\n",
       " 'va',\n",
       " 'proceder',\n",
       " 'lectura',\n",
       " 'propuesta',\n",
       " 'candidato',\n",
       " 'Presidencia',\n",
       " 'Gobierno',\n",
       " '.']"
      ]
     },
     "execution_count": 21,
     "metadata": {},
     "output_type": "execute_result"
    }
   ],
   "source": [
    "from nltk.corpus import stopwords\n",
    "spanish_stopwords = stopwords.words('spanish')\n",
    "\n",
    "tokens = [t for t in tokens if t not in spanish_stopwords]\n",
    "tokens\n",
    "#spanish_stemmer = SnowballStemmer('spanish')\n",
    "#spanish_stopwords = stopwords.words('spanish')\n",
    "#from nltk.stem import SnowballStemmer\n",
    "#tokens = word_tokenize(data[0].text)\n",
    "#spanish_stopwords\n",
    "#[spanish_stemmer.stem(t) for t in tokens]"
   ]
  },
  {
   "cell_type": "code",
   "execution_count": 22,
   "metadata": {},
   "outputs": [
    {
     "data": {
      "text/plain": [
       "['señor',\n",
       " ',',\n",
       " 'quier',\n",
       " 'record',\n",
       " 'ocup',\n",
       " 'tribun',\n",
       " 'invit',\n",
       " 'pued',\n",
       " 'hac',\n",
       " 'manifest',\n",
       " 'ningun',\n",
       " 'tip',\n",
       " 'mientr',\n",
       " 'dur',\n",
       " 'sesion',\n",
       " '.',\n",
       " 'se',\n",
       " 'abre',\n",
       " 'sesion',\n",
       " 'unic',\n",
       " 'punt',\n",
       " 'orden',\n",
       " 'dia',\n",
       " ',',\n",
       " 'usted',\n",
       " 'sab',\n",
       " ',',\n",
       " 'relat',\n",
       " 'debat',\n",
       " 'investidur',\n",
       " 'candidat',\n",
       " 'president',\n",
       " 'gobiern',\n",
       " '.',\n",
       " 'par',\n",
       " 'ello',\n",
       " ',',\n",
       " 'secretari',\n",
       " 'primer',\n",
       " 'cam',\n",
       " 'va',\n",
       " 'proced',\n",
       " 'lectur',\n",
       " 'propuest',\n",
       " 'candidat',\n",
       " 'president',\n",
       " 'gobiern',\n",
       " '.']"
      ]
     },
     "execution_count": 22,
     "metadata": {},
     "output_type": "execute_result"
    }
   ],
   "source": [
    "from nltk.stem import SnowballStemmer\n",
    "[spanish_stemmer.stem(t) for t in tokens]"
   ]
  }
 ],
 "metadata": {
  "kernelspec": {
   "display_name": "Python 3",
   "language": "python",
   "name": "python3"
  },
  "language_info": {
   "codemirror_mode": {
    "name": "ipython",
    "version": 3
   },
   "file_extension": ".py",
   "mimetype": "text/x-python",
   "name": "python",
   "nbconvert_exporter": "python",
   "pygments_lexer": "ipython3",
   "version": "3.9.0"
  }
 },
 "nbformat": 4,
 "nbformat_minor": 4
}
