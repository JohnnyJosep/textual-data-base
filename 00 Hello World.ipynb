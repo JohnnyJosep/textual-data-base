{
 "cells": [
  {
   "cell_type": "markdown",
   "metadata": {},
   "source": [
    "# Hello Whord"
   ]
  },
  {
   "cell_type": "code",
   "execution_count": 1,
   "metadata": {
    "pycharm": {
     "is_executing": true,
     "name": "#%%\n"
    }
   },
   "outputs": [
    {
     "name": "stdout",
     "output_type": "stream",
     "text": [
      "http://www.congreso.es/public_oficiales/L12/CONG/DS/PL/DSCD-12-PL-1.PDF\n",
      "http://www.congreso.es/public_oficiales/L12/CONG/DS/PL/DSCD-12-PL-2.PDF\n",
      "http://www.congreso.es/public_oficiales/L12/CONG/DS/PL/DSCD-12-PL-3.PDF\n",
      "http://www.congreso.es/public_oficiales/L12/CONG/DS/PL/DSCD-12-PL-4.PDF\n",
      "http://www.congreso.es/public_oficiales/L12/CONG/DS/PL/DSCD-12-PL-5.PDF\n",
      "http://www.congreso.es/public_oficiales/L12/CONG/DS/PL/DSCD-12-PL-6.PDF\n",
      "http://www.congreso.es/public_oficiales/L12/CONG/DS/PL/DSCD-12-PL-7.PDF\n",
      "http://www.congreso.es/public_oficiales/L12/CONG/DS/PL/DSCD-12-PL-8.PDF\n",
      "http://www.congreso.es/public_oficiales/L12/CONG/DS/PL/DSCD-12-PL-9.PDF\n",
      "http://www.congreso.es/public_oficiales/L12/CONG/DS/PL/DSCD-12-PL-10.PDF\n",
      "http://www.congreso.es/public_oficiales/L12/CONG/DS/PL/DSCD-12-PL-11.PDF\n",
      "http://www.congreso.es/public_oficiales/L12/CONG/DS/PL/DSCD-12-PL-12.PDF\n",
      "http://www.congreso.es/public_oficiales/L12/CONG/DS/PL/DSCD-12-PL-13.PDF\n",
      "http://www.congreso.es/public_oficiales/L12/CONG/DS/PL/DSCD-12-PL-14.PDF\n",
      "http://www.congreso.es/public_oficiales/L12/CONG/DS/PL/DSCD-12-PL-15.PDF\n",
      "http://www.congreso.es/public_oficiales/L12/CONG/DS/PL/DSCD-12-PL-16.PDF\n",
      "http://www.congreso.es/public_oficiales/L12/CONG/DS/PL/DSCD-12-PL-17.PDF\n",
      "http://www.congreso.es/public_oficiales/L12/CONG/DS/PL/DSCD-12-PL-18.PDF\n",
      "http://www.congreso.es/public_oficiales/L12/CONG/DS/PL/DSCD-12-PL-19.PDF\n",
      "http://www.congreso.es/public_oficiales/L12/CONG/DS/PL/DSCD-12-PL-20.PDF\n",
      "http://www.congreso.es/public_oficiales/L12/CONG/DS/PL/DSCD-12-PL-21.PDF\n",
      "http://www.congreso.es/public_oficiales/L12/CONG/DS/PL/DSCD-12-PL-22.PDF\n",
      "http://www.congreso.es/public_oficiales/L12/CONG/DS/PL/DSCD-12-PL-23.PDF\n",
      "http://www.congreso.es/public_oficiales/L12/CONG/DS/PL/DSCD-12-PL-24.PDF\n",
      "http://www.congreso.es/public_oficiales/L12/CONG/DS/PL/DSCD-12-PL-25.PDF\n",
      "http://www.congreso.es/public_oficiales/L12/CONG/DS/PL/DSCD-12-PL-26.PDF\n",
      "http://www.congreso.es/public_oficiales/L12/CONG/DS/PL/DSCD-12-PL-27.PDF\n",
      "http://www.congreso.es/public_oficiales/L12/CONG/DS/PL/DSCD-12-PL-28.PDF\n",
      "http://www.congreso.es/public_oficiales/L12/CONG/DS/PL/DSCD-12-PL-29.PDF\n",
      "http://www.congreso.es/public_oficiales/L12/CONG/DS/PL/DSCD-12-PL-30.PDF\n",
      "http://www.congreso.es/public_oficiales/L12/CONG/DS/PL/DSCD-12-PL-31.PDF\n",
      "http://www.congreso.es/public_oficiales/L12/CONG/DS/PL/DSCD-12-PL-32.PDF\n",
      "http://www.congreso.es/public_oficiales/L12/CONG/DS/PL/DSCD-12-PL-33.PDF\n",
      "http://www.congreso.es/public_oficiales/L12/CONG/DS/PL/DSCD-12-PL-34.PDF\n",
      "http://www.congreso.es/public_oficiales/L12/CONG/DS/PL/DSCD-12-PL-35.PDF\n",
      "http://www.congreso.es/public_oficiales/L12/CONG/DS/PL/DSCD-12-PL-36.PDF\n",
      "http://www.congreso.es/public_oficiales/L12/CONG/DS/PL/DSCD-12-PL-37.PDF\n",
      "http://www.congreso.es/public_oficiales/L12/CONG/DS/PL/DSCD-12-PL-38.PDF\n",
      "http://www.congreso.es/public_oficiales/L12/CONG/DS/PL/DSCD-12-PL-39.PDF\n",
      "http://www.congreso.es/public_oficiales/L12/CONG/DS/PL/DSCD-12-PL-40.PDF\n",
      "http://www.congreso.es/public_oficiales/L12/CONG/DS/PL/DSCD-12-PL-41.PDF\n",
      "http://www.congreso.es/public_oficiales/L12/CONG/DS/PL/DSCD-12-PL-42.PDF\n",
      "http://www.congreso.es/public_oficiales/L12/CONG/DS/PL/DSCD-12-PL-43.PDF\n",
      "http://www.congreso.es/public_oficiales/L12/CONG/DS/PL/DSCD-12-PL-44.PDF\n",
      "http://www.congreso.es/public_oficiales/L12/CONG/DS/PL/DSCD-12-PL-45.PDF\n",
      "http://www.congreso.es/public_oficiales/L12/CONG/DS/PL/DSCD-12-PL-46.PDF\n",
      "http://www.congreso.es/public_oficiales/L12/CONG/DS/PL/DSCD-12-PL-47.PDF\n",
      "http://www.congreso.es/public_oficiales/L12/CONG/DS/PL/DSCD-12-PL-48.PDF\n",
      "http://www.congreso.es/public_oficiales/L12/CONG/DS/PL/DSCD-12-PL-49.PDF\n",
      "http://www.congreso.es/public_oficiales/L12/CONG/DS/PL/DSCD-12-PL-50.PDF\n",
      "http://www.congreso.es/public_oficiales/L12/CONG/DS/PL/DSCD-12-PL-51.PDF\n",
      "http://www.congreso.es/public_oficiales/L12/CONG/DS/PL/DSCD-12-PL-52.PDF\n",
      "http://www.congreso.es/public_oficiales/L12/CONG/DS/PL/DSCD-12-PL-53.PDF\n",
      "http://www.congreso.es/public_oficiales/L12/CONG/DS/PL/DSCD-12-PL-54.PDF\n",
      "http://www.congreso.es/public_oficiales/L12/CONG/DS/PL/DSCD-12-PL-55.PDF\n"
     ]
    }
   ],
   "source": [
    "import requests\n",
    "\n",
    "def download_pdf(idLegislature, idPleno):\n",
    "    url = f'http://www.congreso.es/public_oficiales/L{idLegislature}/CONG/DS/PL/DSCD-{idLegislature}-PL-{idPleno}.PDF'\n",
    "    response = requests.get(url)\n",
    "    if response.status_code == 200:\n",
    "        with open(f'diaries/DSCD-{idLegislature}-PL-{idPleno}.PDF', 'wb') as file:\n",
    "            file.write(response.content)\n",
    "        return url\n",
    "    return None\n",
    "\n",
    "consecutive_errors = 0\n",
    "for legislature in range (1, 14):\n",
    "    for pleno in range(1, 100):\n",
    "        path = download_pdf(legislature, pleno)\n",
    "        if path:\n",
    "            print(path)\n",
    "        else:\n",
    "            consecutive_errors = consecutive_errors + 1\n",
    "            if consecutive_errors > 15:\n",
    "                break"
   ]
  },
  {
   "cell_type": "code",
   "execution_count": 2,
   "metadata": {
    "pycharm": {
     "name": "#%%\n"
    }
   },
   "outputs": [],
   "source": [
    "from subprocess import call\n",
    "from os import listdir, mkdir\n",
    "from os.path import  isfile, join\n",
    "\n",
    "pdfsPath = 'diaries/'\n",
    "txtPath = 'diaries-txts/'\n",
    "\n",
    "files = [f for f in listdir(pdfsPath) if isfile(join(pdfsPath, f))]\n",
    "\n",
    "process = 'ReadPdf/ReadPdf/bin/Release/net472/ReadPdf.exe'\n",
    "for file in files:\n",
    "    src = join(pdfsPath, file)\n",
    "    dst = join(txtPath, file[:-4] + '.txt')\n",
    "    call([process, src, dst])"
   ]
  }
 ],
 "metadata": {
  "kernelspec": {
   "display_name": "Python 3",
   "language": "python",
   "name": "python3"
  },
  "language_info": {
   "codemirror_mode": {
    "name": "ipython",
    "version": 3
   },
   "file_extension": ".py",
   "mimetype": "text/x-python",
   "name": "python",
   "nbconvert_exporter": "python",
   "pygments_lexer": "ipython3",
   "version": "3.8.6"
  }
 },
 "nbformat": 4,
 "nbformat_minor": 4
}