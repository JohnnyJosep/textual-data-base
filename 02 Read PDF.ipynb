{
 "cells": [
  {
   "cell_type": "code",
   "execution_count": 1,
   "metadata": {},
   "outputs": [],
   "source": [
    "from Diaries import Diary\n",
    "from os import listdir\n",
    "from os.path import isfile, join"
   ]
  },
  {
   "cell_type": "code",
   "execution_count": 2,
   "metadata": {},
   "outputs": [],
   "source": [
    "txts = [join('./diaries-txts/', f) for f in listdir('./diaries-txts') if isfile(join('./diaries-txts/', f))]\n",
    "diaries = {f:Diary(f) for f in txts}\n"
   ]
  },
  {
   "cell_type": "code",
   "execution_count": 3,
   "metadata": {},
   "outputs": [
    {
     "name": "stdout",
     "output_type": "stream",
     "text": [
      "**************************************************************\n",
      "\n",
      "./diaries-txts/DSCD-12-PL-1.txt\n",
      "______________\n",
      "CONSTITUCIÓN DE LA MESA DE EDAD:\n",
      "______________\n",
      "PRESIDENTA DE LA MESA DE EDAD (De Lara Carbó) :> Señorías, se abre la sesión. En virtud de lo dispuesto en el artículo 2 del Reglamento del Congreso de los Diputados, la Mesa de Edad ha quedado constituida por la diputada electa de mayor edad, doña María Teresa de Lara Carbó, como presidenta, y por las dos más jóvenes como secretarias, a saber, doña María Such Palomares y doña Nayua Miriam Alba Goveli, según los datos que constan en la Cámara. Señorías, supone para mí de nuevo un honor presidir, por el mero dictado del calendario, esta sesión plenaria, acompañada de nuestras compañeras más jóvenes. Es el tiempo, desde una simbólica unión de generaciones, quien dicta la composición de esta Mesa, de efímero mandato, desde la que se habrá de producir a partir de este momento la votación para conformar la Mesa definitiva y posteriormente el juramento o promesa de quienes componemos la Cámara en esta legislatura. De ahí que señale el honor que me produce presidir el inicio de esta sesión, y estoy segura de que quienes me acompañan comparten el sentimiento que recogen mis palabras. Hace solo unos meses, en ocasión similar a esta, iniciábamos un camino parlamentario con ilusión, esperanza y voluntad de trabajo al servicio de los españoles, a quienes con orgullo y responsabilidad representamos. Fue una legislatura excepcionalmente corta, que desembocó en unas nuevas elecciones de las que salió la actual conformación de la Cámara. Creo que es una experiencia sobre la que no sobra reflexionar. Señorías, no descubro nada si recuerdo que el Parlamento es el espacio de la palabra y, desde ella, del diálogo, del contraste de ideas, de la búsqueda de la concordia y de los acuerdos al servicio de los ciudadanos. He buscado el sentido que se dio al fundamental valor de la concordia en tiempos pretéritos y más recientes, y he aquí dos ejemplos. Salustio, uno de los más preclaros historiadores romanos, dejó escrito: La concordia hace crecer las pequeñas cosas, la discordia arruina las grandes. Y ya en el siglo XIX, Castelar, preocupado por la regeneración nacional, buscó siempre el acuerdo y la concordia, como lo hizo su contemporáneo Cánovas desde ideas distintas, ambos con luces y con sombras. Es obvio que ello no siempre es posible, pero es positivo que en el Parlamento lo tengamos en cuenta. Señorías, generosidad y altura de miras es la responsabilidad de todos y cada uno de nosotros, que por la representación que el pueblo español nos ha otorgado no podemos desoír ni ante ella ser insensibles, cada cual desde la opción ideológica que libremente ha asumido. Deseo una laboriosa y fructífera legislatura. Muchas gracias. (Aplausos).\n",
      "\n",
      "\n",
      "\n",
      "\n",
      "______________\n",
      "REAL DECRETO DE CONVOCATORIA DE ELECCIONES:\n",
      "______________\n"
     ]
    },
    {
     "ename": "AttributeError",
     "evalue": "'NoneType' object has no attribute 'group'",
     "output_type": "error",
     "traceback": [
      "\u001b[1;31m---------------------------------------------------------------------------\u001b[0m",
      "\u001b[1;31mAttributeError\u001b[0m                            Traceback (most recent call last)",
      "\u001b[1;32m<ipython-input-3-0c2afcb825ea>\u001b[0m in \u001b[0;36m<module>\u001b[1;34m\u001b[0m\n\u001b[0;32m      8\u001b[0m         \u001b[0mprint\u001b[0m\u001b[1;33m(\u001b[0m\u001b[0mdebate\u001b[0m\u001b[1;33m.\u001b[0m\u001b[0mtitle\u001b[0m\u001b[1;33m)\u001b[0m\u001b[1;33m\u001b[0m\u001b[1;33m\u001b[0m\u001b[0m\n\u001b[0;32m      9\u001b[0m         \u001b[0mprint\u001b[0m\u001b[1;33m(\u001b[0m\u001b[1;34m\"______________\"\u001b[0m\u001b[1;33m)\u001b[0m\u001b[1;33m\u001b[0m\u001b[1;33m\u001b[0m\u001b[0m\n\u001b[1;32m---> 10\u001b[1;33m         \u001b[0mspeaches\u001b[0m \u001b[1;33m=\u001b[0m \u001b[0mdebate\u001b[0m\u001b[1;33m.\u001b[0m\u001b[0mget_speaches\u001b[0m\u001b[1;33m(\u001b[0m\u001b[1;33m)\u001b[0m\u001b[1;33m\u001b[0m\u001b[1;33m\u001b[0m\u001b[0m\n\u001b[0m\u001b[0;32m     11\u001b[0m         \u001b[1;32mfor\u001b[0m \u001b[0mspeach\u001b[0m \u001b[1;32min\u001b[0m \u001b[0mspeaches\u001b[0m\u001b[1;33m:\u001b[0m\u001b[1;33m\u001b[0m\u001b[1;33m\u001b[0m\u001b[0m\n\u001b[0;32m     12\u001b[0m             \u001b[0mprint\u001b[0m\u001b[1;33m(\u001b[0m\u001b[0mspeach\u001b[0m\u001b[1;33m)\u001b[0m\u001b[1;33m\u001b[0m\u001b[1;33m\u001b[0m\u001b[0m\n",
      "\u001b[1;32m~\\SynologyDrive\\Documentos\\Grau d'Enginyeria Informàtica\\TFG\\Diaries.py\u001b[0m in \u001b[0;36mget_speaches\u001b[1;34m(self)\u001b[0m\n\u001b[0;32m    123\u001b[0m                 \u001b[0mfound\u001b[0m \u001b[1;33m=\u001b[0m \u001b[0mfound\u001b[0m\u001b[1;33m[\u001b[0m\u001b[1;33m:\u001b[0m\u001b[1;33m-\u001b[0m\u001b[0mlen\u001b[0m\u001b[1;33m(\u001b[0m\u001b[0mend_found\u001b[0m\u001b[1;33m.\u001b[0m\u001b[0mgroup\u001b[0m\u001b[1;33m(\u001b[0m\u001b[1;33m)\u001b[0m\u001b[1;33m)\u001b[0m\u001b[1;33m]\u001b[0m\u001b[1;33m\u001b[0m\u001b[1;33m\u001b[0m\u001b[0m\n\u001b[0;32m    124\u001b[0m \u001b[1;33m\u001b[0m\u001b[0m\n\u001b[1;32m--> 125\u001b[1;33m             \u001b[0mspeacker\u001b[0m \u001b[1;33m=\u001b[0m \u001b[0mre\u001b[0m\u001b[1;33m.\u001b[0m\u001b[0msearch\u001b[0m\u001b[1;33m(\u001b[0m\u001b[0mSpeackerPattern\u001b[0m\u001b[1;33m,\u001b[0m \u001b[0mfound\u001b[0m\u001b[1;33m)\u001b[0m\u001b[1;33m.\u001b[0m\u001b[0mgroup\u001b[0m\u001b[1;33m(\u001b[0m\u001b[1;33m)\u001b[0m\u001b[1;33m\u001b[0m\u001b[1;33m\u001b[0m\u001b[0m\n\u001b[0m\u001b[0;32m    126\u001b[0m             \u001b[1;32mif\u001b[0m \u001b[0mspeacker\u001b[0m\u001b[1;33m:\u001b[0m\u001b[1;33m\u001b[0m\u001b[1;33m\u001b[0m\u001b[0m\n\u001b[0;32m    127\u001b[0m                 \u001b[0mspeach\u001b[0m \u001b[1;33m=\u001b[0m \u001b[0mfound\u001b[0m\u001b[1;33m[\u001b[0m\u001b[0mlen\u001b[0m\u001b[1;33m(\u001b[0m\u001b[0mspeacker\u001b[0m\u001b[1;33m)\u001b[0m\u001b[1;33m:\u001b[0m\u001b[1;33m]\u001b[0m\u001b[1;33m.\u001b[0m\u001b[0mstrip\u001b[0m\u001b[1;33m(\u001b[0m\u001b[1;33m)\u001b[0m\u001b[1;33m\u001b[0m\u001b[1;33m\u001b[0m\u001b[0m\n",
      "\u001b[1;31mAttributeError\u001b[0m: 'NoneType' object has no attribute 'group'"
     ]
    }
   ],
   "source": [
    "for path in diaries:\n",
    "    diary = diaries[path]\n",
    "    print(\"**************************************************************\\n\")\n",
    "    print(path)\n",
    "    debates = diary.get_debates()\n",
    "    for debate in debates:\n",
    "        print(\"______________\")\n",
    "        print(debate.title)\n",
    "        print(\"______________\")\n",
    "        speaches = debate.get_speaches()\n",
    "        for speach in speaches:\n",
    "            print(speach)\n",
    "            print('\\n')\n",
    "        print('\\n')"
   ]
  },
  {
   "cell_type": "code",
   "execution_count": null,
   "metadata": {},
   "outputs": [],
   "source": []
  }
 ],
 "metadata": {
  "kernelspec": {
   "display_name": "Python 3",
   "language": "python",
   "name": "python3"
  },
  "language_info": {
   "codemirror_mode": {
    "name": "ipython",
    "version": 3
   },
   "file_extension": ".py",
   "mimetype": "text/x-python",
   "name": "python",
   "nbconvert_exporter": "python",
   "pygments_lexer": "ipython3",
   "version": "3.8.6"
  }
 },
 "nbformat": 4,
 "nbformat_minor": 4
}
