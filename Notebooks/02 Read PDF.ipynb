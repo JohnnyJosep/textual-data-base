{
 "cells": [
  {
   "cell_type": "code",
   "execution_count": 5,
   "metadata": {},
   "outputs": [],
   "source": [
    "from inc.DiarioCongreso import Diary\n",
    "from os import listdir\n",
    "from os.path import isfile, join\n",
    "import pickle\n",
    "from inc.TextUtils import TextData"
   ]
  },
  {
   "cell_type": "code",
   "execution_count": 2,
   "metadata": {},
   "outputs": [],
   "source": [
    "txts = [join('./data/diaries-txts/', f) for f in listdir('./data/diaries-txts') if isfile(join('./data/diaries-txts/', f))]\n",
    "diaries = {f:Diary(f) for f in txts}\n"
   ]
  },
  {
   "cell_type": "code",
   "execution_count": 3,
   "metadata": {},
   "outputs": [],
   "source": [
    "data = []\n",
    "for path in diaries:\n",
    "    diary = diaries[path]\n",
    "    #print(path)\n",
    "    \n",
    "    debates = diary.get_debates()\n",
    "    for debate in debates:\n",
    "        sps = debate.get_speaches()\n",
    "        for s in sps:\n",
    "            data.append(TextData(s.speach, {\n",
    "                \"speacker\": s.speacker,\n",
    "                \"debate\": debate.title,\n",
    "                \"path\": path\n",
    "            }))"
   ]
  },
  {
   "cell_type": "code",
   "execution_count": 15,
   "metadata": {},
   "outputs": [],
   "source": [
    "# print(data[14555])\n",
    "# print(data[14556])\n",
    "# print(data[14557])\n",
    "# print(data[14558])\n",
    "# print(data[14559])\n",
    "# print(data[14560])"
   ]
  },
  {
   "cell_type": "code",
   "execution_count": 4,
   "metadata": {},
   "outputs": [],
   "source": [
    "with open('./data/data.pickle', 'wb') as file:\n",
    "    pickle.dump(data, file)\n",
    "\n"
   ]
  }
 ],
 "metadata": {
  "kernelspec": {
   "display_name": "Python 3",
   "language": "python",
   "name": "python3"
  },
  "language_info": {
   "codemirror_mode": {
    "name": "ipython",
    "version": 3
   },
   "file_extension": ".py",
   "mimetype": "text/x-python",
   "name": "python",
   "nbconvert_exporter": "python",
   "pygments_lexer": "ipython3",
   "version": "3.8.8"
  }
 },
 "nbformat": 4,
 "nbformat_minor": 4
}
